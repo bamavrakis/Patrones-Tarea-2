{
 "cells": [
  {
   "cell_type": "code",
   "execution_count": 10,
   "metadata": {},
   "outputs": [],
   "source": [
    "import numpy as np                                     # Manejo arreglos.\n",
    "from pybalu.io import imread                           # Lectura imágenes.\n",
    "from sklearn.neighbors import KNeighborsClassifier     # Modelo KNN\n",
    "from lbp import lbp_features\n",
    "from pybalu.feature_selection import sfs               # Selección features.\n",
    "from pybalu.performance_eval import performance # Cómputo accuracy.\n",
    "import os"
   ]
  },
  {
   "cell_type": "code",
   "execution_count": 49,
   "metadata": {},
   "outputs": [],
   "source": [
    "###PARTE 1#####\n",
    "#Se define una función para la extracción de features\n",
    "def add_feats(image_name, label, dataset, dataset_label):\n",
    "    # Se abre el archivo y se convierte en un numpy array.\n",
    "    im = imread(image_name)\n",
    "    # Se extraen las lbp features de la imagen.\n",
    "    lbp_im = lbp_features(im, vdiv=4, hdiv=4)\n",
    "    #Se añade la información extraida al arreglo correspondiente\n",
    "    dataset.append(lbp_im)\n",
    "    #Se añade el label de la imagen al arreglo correspondiente\n",
    "    dataset_label.append(label)\n",
    "\n",
    "# Arreglo de los datos\n",
    "faces_train = []\n",
    "faces_train_label = []\n",
    "faces_test = []\n",
    "faces_test_label = []\n",
    "#Para cada imagen con ID impar, se extraen sus lbp features y se añaden a los arreglos correspondientes\n",
    "for image in os.listdir(\"images/\"):\n",
    "    image_information = image.split(\"_\")\n",
    "    #Se obtiene el ID de la persona en la imagen\n",
    "    label = int(image_information[1])\n",
    "    #Se obtiene el número de imagen para una persona determinada\n",
    "    image_number = int(image_information[2].split(\".\")[0])\n",
    "    if (label % 2 == 1):\n",
    "        if (image_number == 1):  \n",
    "            add_feats(\"images/\" + image, label, faces_test, faces_test_label)\n",
    "        else:\n",
    "            add_feats(\"images/\" + image, label, faces_train, faces_train_label)\n",
    "faces_train = np.array(faces_train)\n",
    "faces_train_label = np.array(faces_train_label)\n",
    "faces_test = np.array(faces_test)\n",
    "faces_test_label = np.array(faces_test_label)"
   ]
  },
  {
   "cell_type": "code",
   "execution_count": 50,
   "metadata": {},
   "outputs": [
    {
     "name": "stderr",
     "output_type": "stream",
     "text": [
      "\n",
      "\n",
      "\n",
      "Selecting Features:   0%|                                                           | 0.00/10.0 [00:00<?, ? features/s]\n",
      "\n",
      "\n",
      "Selecting Features:  10%|█████▏                                              | 1.00/10.0 [00:58<08:43, 58.1s/ features]\n",
      "\n",
      "\n",
      "Selecting Features:  20%|██████████▍                                         | 2.00/10.0 [01:59<07:53, 59.2s/ features]\n",
      "\n",
      "\n",
      "Selecting Features:  30%|███████████████▌                                    | 3.00/10.0 [03:01<06:58, 59.8s/ features]\n",
      "\n",
      "\n",
      "Selecting Features:  40%|████████████████████▊                               | 4.00/10.0 [04:10<06:16, 62.8s/ features]\n",
      "\n",
      "\n",
      "Selecting Features:  50%|██████████████████████████                          | 5.00/10.0 [05:16<05:18, 63.8s/ features]\n",
      "\n",
      "\n",
      "Selecting Features:  60%|███████████████████████████████▏                    | 6.00/10.0 [06:27<04:23, 65.9s/ features]\n",
      "\n",
      "\n",
      "Selecting Features:  70%|████████████████████████████████████▍               | 7.00/10.0 [07:33<03:17, 65.8s/ features]\n",
      "\n",
      "\n",
      "Selecting Features:  80%|█████████████████████████████████████████▌          | 8.00/10.0 [08:38<02:11, 65.5s/ features]\n",
      "\n",
      "\n",
      "Selecting Features:  90%|██████████████████████████████████████████████▊     | 9.00/10.0 [09:42<01:05, 65.1s/ features]\n",
      "\n",
      "\n",
      "Selecting Features: 100%|████████████████████████████████████████████████████| 10.0/10.0 [10:46<00:00, 65.0s/ features]"
     ]
    }
   ],
   "source": [
    "# Cantidad de features a utilizar.\n",
    "N_FEATURES = 10\n",
    "# Se seleccionan las mejores 100 features\n",
    "selected_feats = sfs(faces_train,faces_train_label,n_features=N_FEATURES,method=\"fisher\",\n",
    "show=True)\n",
    "# Se definen Xtrain_new,Xtest_new con las features seleccionadas.\n",
    "faces_train_new, faces_test_new = faces_train[:,selected_feats],faces_test[:,selected_feats]"
   ]
  },
  {
   "cell_type": "code",
   "execution_count": 51,
   "metadata": {},
   "outputs": [
    {
     "data": {
      "text/plain": [
       "KNeighborsClassifier(algorithm='auto', leaf_size=30, metric='minkowski',\n",
       "           metric_params=None, n_jobs=None, n_neighbors=1, p=2,\n",
       "           weights='uniform')"
      ]
     },
     "execution_count": 51,
     "metadata": {},
     "output_type": "execute_result"
    }
   ],
   "source": [
    "# Se define el modelo y se entrena.\n",
    "knn = KNeighborsClassifier(n_neighbors=1)\n",
    "knn.fit(faces_train_new,faces_train_label)"
   ]
  },
  {
   "cell_type": "code",
   "execution_count": 58,
   "metadata": {},
   "outputs": [
    {
     "name": "stdout",
     "output_type": "stream",
     "text": [
      "0.3\n"
     ]
    }
   ],
   "source": [
    "# Se obtiene la predicción\n",
    "Ypred_new = knn.predict(faces_test_new)\n",
    "\n",
    "# Computamos el accuracy.\n",
    "result = performance(Ypred_new, faces_test_label)\n",
    "print(result)"
   ]
  },
  {
   "cell_type": "code",
   "execution_count": 53,
   "metadata": {},
   "outputs": [],
   "source": [
    "###PARTE 2#####\n",
    "# Arreglo de los datos\n",
    "faces_train = []\n",
    "faces_train_label = []\n",
    "faces_test = []\n",
    "faces_test_label = []\n",
    "#Para cada imagen con ID par, se extraen sus lbp features y se añaden a los arreglos correspondientes\n",
    "for image in os.listdir(\"images/\"):\n",
    "    image_information = image.split(\"_\")\n",
    "    #Se obtiene el ID de la persona en la imagen\n",
    "    label = int(image_information[1])\n",
    "    #Se obtiene el número de imagen para una persona determinada\n",
    "    image_number = int(image_information[2].split(\".\")[0])\n",
    "    if (label % 2 == 0):\n",
    "        if (image_number == 1):  \n",
    "            add_feats(\"images/\" + image, label, faces_test, faces_test_label)\n",
    "        else:\n",
    "            add_feats(\"images/\" + image, label, faces_train, faces_train_label)\n",
    "faces_train = np.array(faces_train)\n",
    "faces_train_label = np.array(faces_train_label)\n",
    "faces_test = np.array(faces_test)\n",
    "faces_test_label = np.array(faces_test_label)"
   ]
  },
  {
   "cell_type": "code",
   "execution_count": 56,
   "metadata": {},
   "outputs": [
    {
     "data": {
      "text/plain": [
       "KNeighborsClassifier(algorithm='auto', leaf_size=30, metric='minkowski',\n",
       "           metric_params=None, n_jobs=None, n_neighbors=1, p=2,\n",
       "           weights='uniform')"
      ]
     },
     "execution_count": 56,
     "metadata": {},
     "output_type": "execute_result"
    }
   ],
   "source": [
    "# Se definen Xtrain_new,Xtest_new con las features seleccionadas.\n",
    "faces_train_new, faces_test_new = faces_train[:,selected_feats],faces_test[:,selected_feats]\n",
    "# Se define el modelo y se entrena.\n",
    "knn = KNeighborsClassifier(n_neighbors=1)\n",
    "knn.fit(faces_train_new,faces_train_label)"
   ]
  },
  {
   "cell_type": "code",
   "execution_count": 57,
   "metadata": {},
   "outputs": [
    {
     "name": "stdout",
     "output_type": "stream",
     "text": [
      "0.3\n"
     ]
    }
   ],
   "source": [
    "# Se obtiene la predicción\n",
    "Ypred_new = knn.predict(faces_test_new)\n",
    "\n",
    "# Computamos el accuracy.\n",
    "result = performance(Ypred_new, faces_test_label)\n",
    "print(result)"
   ]
  },
  {
   "cell_type": "code",
   "execution_count": null,
   "metadata": {},
   "outputs": [],
   "source": []
  }
 ],
 "metadata": {
  "kernelspec": {
   "display_name": "Python 3",
   "language": "python",
   "name": "python3"
  }
 },
 "nbformat": 4,
 "nbformat_minor": 2
}
